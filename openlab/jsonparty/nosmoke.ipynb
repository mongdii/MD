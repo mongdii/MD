{
 "cells": [
  {
   "cell_type": "code",
   "execution_count": 2,
   "metadata": {},
   "outputs": [],
   "source": [
    "import pandas as pd\n",
    "import csv, json"
   ]
  },
  {
   "cell_type": "code",
   "execution_count": 3,
   "metadata": {},
   "outputs": [],
   "source": [
    "with open('./전국금연구역표준데이터1.json') as f:\n",
    "    j = json.load(f)"
   ]
  },
  {
   "cell_type": "code",
   "execution_count": 4,
   "metadata": {},
   "outputs": [
    {
     "name": "stderr",
     "output_type": "stream",
     "text": [
      "/home/mongdii/miniconda3/envs/openlab_env/lib/python3.8/site-packages/IPython/core/interactiveshell.py:3071: DtypeWarning: Columns (15) have mixed types.Specify dtype option on import or set low_memory=False.\n",
      "  has_raised = await self.run_ast_nodes(code_ast.body, cell_name,\n"
     ]
    }
   ],
   "source": [
    "df = pd.read_csv('./전국금연구역표준데이터1.csv')"
   ]
  },
  {
   "cell_type": "code",
   "execution_count": 5,
   "metadata": {},
   "outputs": [
    {
     "data": {
      "text/html": [
       "<div>\n",
       "<style scoped>\n",
       "    .dataframe tbody tr th:only-of-type {\n",
       "        vertical-align: middle;\n",
       "    }\n",
       "\n",
       "    .dataframe tbody tr th {\n",
       "        vertical-align: top;\n",
       "    }\n",
       "\n",
       "    .dataframe thead th {\n",
       "        text-align: right;\n",
       "    }\n",
       "</style>\n",
       "<table border=\"1\" class=\"dataframe\">\n",
       "  <thead>\n",
       "    <tr style=\"text-align: right;\">\n",
       "      <th></th>\n",
       "      <th>금연구역명</th>\n",
       "      <th>금연구역범위상세</th>\n",
       "      <th>시도명</th>\n",
       "      <th>시군구명</th>\n",
       "      <th>금연구역구분</th>\n",
       "      <th>금연구역지정근거명</th>\n",
       "      <th>금연구역면적</th>\n",
       "      <th>위반과태료</th>\n",
       "      <th>위반신고전화번호</th>\n",
       "      <th>소재지도로명주소</th>\n",
       "      <th>소재지지번주소</th>\n",
       "      <th>관리기관명</th>\n",
       "      <th>위도</th>\n",
       "      <th>경도</th>\n",
       "      <th>데이터기준일자</th>\n",
       "      <th>제공기관코드</th>\n",
       "      <th>제공기관명</th>\n",
       "    </tr>\n",
       "  </thead>\n",
       "  <tbody>\n",
       "    <tr>\n",
       "      <th>0</th>\n",
       "      <td>부국어린이집</td>\n",
       "      <td>시설전체</td>\n",
       "      <td>충청남도</td>\n",
       "      <td>논산시</td>\n",
       "      <td>어린이집</td>\n",
       "      <td>국민건강증진법제9조</td>\n",
       "      <td>NaN</td>\n",
       "      <td>NaN</td>\n",
       "      <td>NaN</td>\n",
       "      <td>충청남도 논산시 중앙로397번길 6</td>\n",
       "      <td>충청남도 논산시 취암동 565</td>\n",
       "      <td>충청남도 논산시청</td>\n",
       "      <td>36.199669</td>\n",
       "      <td>127.088579</td>\n",
       "      <td>2020-03-20</td>\n",
       "      <td>4540000</td>\n",
       "      <td>충청남도 논산시</td>\n",
       "    </tr>\n",
       "    <tr>\n",
       "      <th>1</th>\n",
       "      <td>부대통령뚝배기</td>\n",
       "      <td>시설전체</td>\n",
       "      <td>충청남도</td>\n",
       "      <td>논산시</td>\n",
       "      <td>식품접객업소</td>\n",
       "      <td>국민건강증진법제9조</td>\n",
       "      <td>NaN</td>\n",
       "      <td>NaN</td>\n",
       "      <td>NaN</td>\n",
       "      <td>충청남도 논산시 은진면 대학로 122</td>\n",
       "      <td>충청남도 논산시 은진면 와야리 276-21</td>\n",
       "      <td>충청남도 논산시청</td>\n",
       "      <td>36.180444</td>\n",
       "      <td>127.111190</td>\n",
       "      <td>2020-03-20</td>\n",
       "      <td>4540000</td>\n",
       "      <td>충청남도 논산시</td>\n",
       "    </tr>\n",
       "    <tr>\n",
       "      <th>2</th>\n",
       "      <td>부루벨호프</td>\n",
       "      <td>시설전체</td>\n",
       "      <td>충청남도</td>\n",
       "      <td>논산시</td>\n",
       "      <td>식품접객업소</td>\n",
       "      <td>국민건강증진법제9조</td>\n",
       "      <td>NaN</td>\n",
       "      <td>NaN</td>\n",
       "      <td>NaN</td>\n",
       "      <td>충청남도 논산시 은진면 외야길 8</td>\n",
       "      <td>NaN</td>\n",
       "      <td>충청남도 논산시청</td>\n",
       "      <td>36.164106</td>\n",
       "      <td>127.108929</td>\n",
       "      <td>2020-03-20</td>\n",
       "      <td>4540000</td>\n",
       "      <td>충청남도 논산시</td>\n",
       "    </tr>\n",
       "    <tr>\n",
       "      <th>3</th>\n",
       "      <td>부림분식집</td>\n",
       "      <td>시설전체</td>\n",
       "      <td>충청남도</td>\n",
       "      <td>논산시</td>\n",
       "      <td>식품접객업소</td>\n",
       "      <td>국민건강증진법제9조</td>\n",
       "      <td>NaN</td>\n",
       "      <td>NaN</td>\n",
       "      <td>NaN</td>\n",
       "      <td>충청남도 논산시 해월로143번길 13-1</td>\n",
       "      <td>충청남도 논산시 반월동 166-9</td>\n",
       "      <td>충청남도 논산시청</td>\n",
       "      <td>36.204855</td>\n",
       "      <td>127.083047</td>\n",
       "      <td>2020-03-20</td>\n",
       "      <td>4540000</td>\n",
       "      <td>충청남도 논산시</td>\n",
       "    </tr>\n",
       "    <tr>\n",
       "      <th>4</th>\n",
       "      <td>부부기사님식당</td>\n",
       "      <td>시설전체</td>\n",
       "      <td>충청남도</td>\n",
       "      <td>논산시</td>\n",
       "      <td>식품접객업소</td>\n",
       "      <td>국민건강증진법제9조</td>\n",
       "      <td>NaN</td>\n",
       "      <td>NaN</td>\n",
       "      <td>NaN</td>\n",
       "      <td>충청남도 논산시 채운면 계백로 641</td>\n",
       "      <td>충청남도 논산시 채운면 화산리 195-12</td>\n",
       "      <td>충청남도 논산시청</td>\n",
       "      <td>36.178495</td>\n",
       "      <td>127.064656</td>\n",
       "      <td>2020-03-20</td>\n",
       "      <td>4540000</td>\n",
       "      <td>충청남도 논산시</td>\n",
       "    </tr>\n",
       "  </tbody>\n",
       "</table>\n",
       "</div>"
      ],
      "text/plain": [
       "     금연구역명 금연구역범위상세   시도명 시군구명  금연구역구분   금연구역지정근거명  금연구역면적  위반과태료 위반신고전화번호  \\\n",
       "0   부국어린이집     시설전체  충청남도  논산시    어린이집  국민건강증진법제9조     NaN    NaN      NaN   \n",
       "1  부대통령뚝배기     시설전체  충청남도  논산시  식품접객업소  국민건강증진법제9조     NaN    NaN      NaN   \n",
       "2    부루벨호프     시설전체  충청남도  논산시  식품접객업소  국민건강증진법제9조     NaN    NaN      NaN   \n",
       "3    부림분식집     시설전체  충청남도  논산시  식품접객업소  국민건강증진법제9조     NaN    NaN      NaN   \n",
       "4  부부기사님식당     시설전체  충청남도  논산시  식품접객업소  국민건강증진법제9조     NaN    NaN      NaN   \n",
       "\n",
       "                 소재지도로명주소                  소재지지번주소      관리기관명         위도  \\\n",
       "0     충청남도 논산시 중앙로397번길 6         충청남도 논산시 취암동 565  충청남도 논산시청  36.199669   \n",
       "1    충청남도 논산시 은진면 대학로 122  충청남도 논산시 은진면 와야리 276-21  충청남도 논산시청  36.180444   \n",
       "2      충청남도 논산시 은진면 외야길 8                      NaN  충청남도 논산시청  36.164106   \n",
       "3  충청남도 논산시 해월로143번길 13-1       충청남도 논산시 반월동 166-9  충청남도 논산시청  36.204855   \n",
       "4    충청남도 논산시 채운면 계백로 641  충청남도 논산시 채운면 화산리 195-12  충청남도 논산시청  36.178495   \n",
       "\n",
       "           경도     데이터기준일자   제공기관코드     제공기관명  \n",
       "0  127.088579  2020-03-20  4540000  충청남도 논산시  \n",
       "1  127.111190  2020-03-20  4540000  충청남도 논산시  \n",
       "2  127.108929  2020-03-20  4540000  충청남도 논산시  \n",
       "3  127.083047  2020-03-20  4540000  충청남도 논산시  \n",
       "4  127.064656  2020-03-20  4540000  충청남도 논산시  "
      ]
     },
     "execution_count": 5,
     "metadata": {},
     "output_type": "execute_result"
    }
   ],
   "source": [
    "df.head()"
   ]
  },
  {
   "cell_type": "code",
   "execution_count": 6,
   "metadata": {},
   "outputs": [],
   "source": [
    "dfJson=df.to_json('./전국금연구역표준데이터1.json', orient='table')"
   ]
  },
  {
   "cell_type": "code",
   "execution_count": 7,
   "metadata": {},
   "outputs": [
    {
     "data": {
      "text/plain": [
       "{'index': 0,\n",
       " '금연구역명': '부국어린이집',\n",
       " '금연구역범위상세': '시설전체',\n",
       " '시도명': '충청남도',\n",
       " '시군구명': '논산시',\n",
       " '금연구역구분': '어린이집',\n",
       " '금연구역지정근거명': '국민건강증진법제9조',\n",
       " '금연구역면적': None,\n",
       " '위반과태료': None,\n",
       " '위반신고전화번호': None,\n",
       " '소재지도로명주소': '충청남도 논산시 중앙로397번길 6',\n",
       " '소재지지번주소': '충청남도 논산시 취암동 565',\n",
       " '관리기관명': '충청남도 논산시청',\n",
       " '위도': 36.1996694752,\n",
       " '경도': 127.0885785495,\n",
       " '데이터기준일자': '2020-03-20',\n",
       " '제공기관코드': '4540000',\n",
       " '제공기관명': '충청남도 논산시'}"
      ]
     },
     "execution_count": 7,
     "metadata": {},
     "output_type": "execute_result"
    }
   ],
   "source": [
    "j['data'][0]"
   ]
  },
  {
   "cell_type": "code",
   "execution_count": null,
   "metadata": {},
   "outputs": [],
   "source": []
  }
 ],
 "metadata": {
  "kernelspec": {
   "display_name": "Python 3",
   "language": "python",
   "name": "python3"
  },
  "language_info": {
   "codemirror_mode": {
    "name": "ipython",
    "version": 3
   },
   "file_extension": ".py",
   "mimetype": "text/x-python",
   "name": "python",
   "nbconvert_exporter": "python",
   "pygments_lexer": "ipython3",
   "version": "3.8.3"
  }
 },
 "nbformat": 4,
 "nbformat_minor": 4
}
